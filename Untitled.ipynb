{
 "cells": [
  {
   "cell_type": "markdown",
   "id": "returning-retirement",
   "metadata": {},
   "source": [
    "# Hoja de Trabajo #1 "
   ]
  },
  {
   "cell_type": "markdown",
   "id": "southeast-documentation",
   "metadata": {},
   "source": [
    "## Ciencia de Datos en Python\n"
   ]
  },
  {
   "cell_type": "markdown",
   "id": "corrected-statement",
   "metadata": {},
   "source": [
    "#### Kevin Munoz\n",
    "#### 21004324"
   ]
  },
  {
   "cell_type": "markdown",
   "id": "identical-commitment",
   "metadata": {},
   "source": [
    "1. Markdown"
   ]
  },
  {
   "cell_type": "markdown",
   "id": "solved-disaster",
   "metadata": {},
   "source": [
    "Markdown is a Markup language (writing standard), converted into HTML allowing to be easily shared between devices/people. Similar to heading in HTML (h1, h2, etc.) jupyter allows the same funcitonality in a Markdown cell using number symbol (#) in succession (h1 = #, h2 = ##, ...)."
   ]
  },
  {
   "cell_type": "markdown",
   "id": "scheduled-february",
   "metadata": {},
   "source": [
    "Other functional Markdown are:"
   ]
  },
  {
   "cell_type": "markdown",
   "id": "similar-variation",
   "metadata": {},
   "source": [
    "* list of items (`* text`)"
   ]
  },
  {
   "cell_type": "markdown",
   "id": "alternate-twins",
   "metadata": {},
   "source": [
    "* _italic letter_ (`a_text_`)"
   ]
  },
  {
   "cell_type": "markdown",
   "id": "interstate-newsletter",
   "metadata": {},
   "source": [
    "* 1. numbered list (`1. text`)"
   ]
  },
  {
   "cell_type": "markdown",
   "id": "worst-spencer",
   "metadata": {},
   "source": [
    "* __boldtext__ (`__text__`)"
   ]
  },
  {
   "cell_type": "markdown",
   "id": "quarterly-feeding",
   "metadata": {},
   "source": [
    "* ---"
   ]
  },
  {
   "cell_type": "markdown",
   "id": "operational-spiritual",
   "metadata": {},
   "source": [
    "* linebreak (`---`)"
   ]
  },
  {
   "cell_type": "markdown",
   "id": "cubic-utilization",
   "metadata": {},
   "source": [
    "* [Link](https://google.com\n",
    "    \"optional title\")\n"
   ]
  },
  {
   "cell_type": "markdown",
   "id": "significant-copying",
   "metadata": {},
   "source": [
    "* ```python\n",
    "print('code as text (triple quote, code, triple quote)');\n",
    "```\n"
   ]
  },
  {
   "cell_type": "markdown",
   "id": "assisted-magazine",
   "metadata": {},
   "source": []
  },
  {
   "cell_type": "code",
   "execution_count": null,
   "id": "allied-refund",
   "metadata": {},
   "outputs": [],
   "source": []
  }
 ],
 "metadata": {
  "kernelspec": {
   "display_name": "Python 3",
   "language": "python",
   "name": "python3"
  },
  "language_info": {
   "codemirror_mode": {
    "name": "ipython",
    "version": 3
   },
   "file_extension": ".py",
   "mimetype": "text/x-python",
   "name": "python",
   "nbconvert_exporter": "python",
   "pygments_lexer": "ipython3",
   "version": "3.9.1"
  }
 },
 "nbformat": 4,
 "nbformat_minor": 5
}
