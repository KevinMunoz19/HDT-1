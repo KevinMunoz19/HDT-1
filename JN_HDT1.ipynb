{
 "cells": [
  {
   "cell_type": "markdown",
   "id": "revolutionary-fiction",
   "metadata": {},
   "source": [
    "# Hoja de Trabajo #1 "
   ]
  },
  {
   "cell_type": "markdown",
   "id": "european-fields",
   "metadata": {},
   "source": [
    "## Ciencia de Datos en Python\n"
   ]
  },
  {
   "cell_type": "markdown",
   "id": "hybrid-arctic",
   "metadata": {},
   "source": [
    "#### Kevin Munoz\n",
    "#### 21004324"
   ]
  },
  {
   "cell_type": "markdown",
   "id": "utility-compound",
   "metadata": {},
   "source": [
    "1. Markdown"
   ]
  },
  {
   "cell_type": "markdown",
   "id": "structural-wednesday",
   "metadata": {},
   "source": [
    "Markdown is a __Markup language__ (writing standard), converted into HTML allowing to be easily shared between devices/people. Similar to heading in HTML (h1, h2, etc.) jupyter allows the same funcitonality in a Markdown cell using number symbol (#) in succession (h1 = #, h2 = ##, ...)."
   ]
  },
  {
   "cell_type": "markdown",
   "id": "mexican-missouri",
   "metadata": {},
   "source": [
    "Other functional Markdown are:"
   ]
  },
  {
   "cell_type": "markdown",
   "id": "cardiac-validity",
   "metadata": {},
   "source": [
    "* list of items (`* text`)"
   ]
  },
  {
   "cell_type": "markdown",
   "id": "angry-subsection",
   "metadata": {},
   "source": [
    "* _italic letter_ (`a_text_`)"
   ]
  },
  {
   "cell_type": "markdown",
   "id": "exterior-venice",
   "metadata": {},
   "source": [
    "* 1. numbered list (`1. text`)"
   ]
  },
  {
   "cell_type": "markdown",
   "id": "rocky-brazil",
   "metadata": {},
   "source": [
    "* __boldtext__ (`__text__`)"
   ]
  },
  {
   "cell_type": "markdown",
   "id": "junior-raleigh",
   "metadata": {},
   "source": [
    "* ---"
   ]
  },
  {
   "cell_type": "markdown",
   "id": "molecular-berry",
   "metadata": {},
   "source": [
    "* linebreak (`---`)"
   ]
  },
  {
   "cell_type": "markdown",
   "id": "filled-hartford",
   "metadata": {},
   "source": [
    "* [Link](https://google.com\n",
    "    \"optional title\")\n"
   ]
  },
  {
   "cell_type": "markdown",
   "id": "bridal-ranking",
   "metadata": {},
   "source": [
    "* ```python\n",
    "print('code as text (triple quote, code, triple quote)');\n",
    "```\n"
   ]
  },
  {
   "cell_type": "markdown",
   "id": "apart-bandwidth",
   "metadata": {},
   "source": [
    "2. Git"
   ]
  },
  {
   "cell_type": "markdown",
   "id": "later-tissue",
   "metadata": {},
   "source": [
    "__Git__ is a version control system created in 2005, that allows to track changes in a set of files (project) by creating a local repository. Version control lets you mantain a history of changes in a project's files in a series of snapshots, allowing for better and easier collaborative work."
   ]
  },
  {
   "cell_type": "markdown",
   "id": "completed-limit",
   "metadata": {},
   "source": [
    "A __snapshot__, also known as a commit, is a \"photo\" of the actual information stored in a project's files, and they relate with each other in a one-way direction, like this: o -> o -> o. Each o is a commit (snapshot) made by a user, meaning stored changes in files."
   ]
  },
  {
   "cell_type": "markdown",
   "id": "focal-position",
   "metadata": {},
   "source": [
    "A commit history is the relation between the commit flow. The commits dont have to be linear, they can be separated in branches, creating a starting point in history and going two (or more) different ways that dont collide with each other, and then can be \"merged\" in one single branch. "
   ]
  },
  {
   "cell_type": "markdown",
   "id": "incredible-workplace",
   "metadata": {},
   "source": [
    "Changes in files have to be in a __staging area__ to be commited, meaning that just the files in this area are going to make a new snapshot, allowing to create a commit of certain files, giving this commit a comment to explain the changes. "
   ]
  },
  {
   "cell_type": "markdown",
   "id": "infinite-agriculture",
   "metadata": {},
   "source": [
    "Git is a command-line interface at its core, so you need to know the basic commands to various tasks, install the git GUI (graphic user interface), or use the integrated git tool in numeroues text editors. Some usefull commands are:"
   ]
  },
  {
   "cell_type": "markdown",
   "id": "straight-effects",
   "metadata": {},
   "source": [
    "* create new repositry\n",
    "> $git init"
   ]
  },
  {
   "cell_type": "markdown",
   "id": "fixed-transaction",
   "metadata": {},
   "source": [
    "* add files to staging area\n",
    "> $git add \"filename\""
   ]
  },
  {
   "cell_type": "markdown",
   "id": "burning-steps",
   "metadata": {},
   "source": [
    "* create a branch\n",
    "> $git branch \"name\""
   ]
  },
  {
   "cell_type": "markdown",
   "id": "established-salem",
   "metadata": {},
   "source": [
    "* commit files in staging area\n",
    "> $git commit"
   ]
  },
  {
   "cell_type": "markdown",
   "id": "beneficial-coordinate",
   "metadata": {},
   "source": [
    "* switch to branch\n",
    "> git checkout \"name\""
   ]
  },
  {
   "cell_type": "markdown",
   "id": "documentary-antarctica",
   "metadata": {},
   "source": [
    "* clone repository\n",
    "> git clone \"URL\""
   ]
  },
  {
   "cell_type": "markdown",
   "id": "incomplete-thursday",
   "metadata": {},
   "source": [
    "[Github](https://github.com/\n",
    "\"optional title\") \n",
    "is a free hosting for software development site, that allows to upload a git repository and keep track of changes, share your project with someone else, create issues and track the progress, and request features. \n",
    "\n",
    "On github you can create a repository, share the url to someone, so they can see the files or clone the project. Github allows for multiple people to work opn the same project having a platform to keep track of todos and work remotly, creating branches, requesting a pull request (request of merge changes in a branch to another branch, previously revised and authorized by someone), and keep track of issues and how its being managed. Normally you would have a master branch, containing the latest functional version of a project, and various branches working on new features, bugs or todos, to then merge this changes into the master branch after being tested and revised."
   ]
  },
  {
   "cell_type": "markdown",
   "id": "familiar-married",
   "metadata": {},
   "source": [
    "As an excercise of git knowledge, a repo was created for this JN, commiting changes of markdown in the master branch, then a new branch was created for information about git, and then a pull request was created to merge the gitinfo branch to the master branch."
   ]
  },
  {
   "cell_type": "markdown",
   "id": "bearing-digest",
   "metadata": {},
   "source": [
    "##### Graphic flow of commit history by branch"
   ]
  },
  {
   "cell_type": "markdown",
   "id": "loved-problem",
   "metadata": {},
   "source": [
    "![Git branch flow](git_gui_flow.png)"
   ]
  },
  {
   "cell_type": "markdown",
   "id": "strategic-johnson",
   "metadata": {},
   "source": [
    "##### Git commit history, pull request to merge"
   ]
  },
  {
   "cell_type": "markdown",
   "id": "valid-evans",
   "metadata": {},
   "source": [
    "![Git branch flow](git_commit_history.png)"
   ]
  },
  {
   "cell_type": "markdown",
   "id": "magnetic-firmware",
   "metadata": {},
   "source": [
    "Git commands where used in a separate cmd, here are the commands used (without running the actual command):"
   ]
  },
  {
   "cell_type": "markdown",
   "id": "permanent-standard",
   "metadata": {},
   "source": [
    "1. Init repository"
   ]
  },
  {
   "cell_type": "code",
   "execution_count": 3,
   "id": "devoted-spanking",
   "metadata": {},
   "outputs": [
    {
     "name": "stdout",
     "output_type": "stream",
     "text": [
      "Microsoft Windows [Version 10.0.19041.746]\n",
      "(c) 2020 Microsoft Corporation. All rights reserved.\n",
      "\n",
      "C:\\Users\\kevin\\Desktop\\HDT 1>git init\n",
      "Reinitialized existing Git repository in C:/Users/kevin/Desktop/HDT 1/.git/\n",
      "\n",
      "C:\\Users\\kevin\\Desktop\\HDT 1>"
     ]
    }
   ],
   "source": [
    "%%cmd \n",
    "git init"
   ]
  },
  {
   "cell_type": "markdown",
   "id": "executed-salon",
   "metadata": {},
   "source": [
    "2. Add all changes to staging area"
   ]
  },
  {
   "cell_type": "code",
   "execution_count": null,
   "id": "chicken-possible",
   "metadata": {},
   "outputs": [],
   "source": [
    "%%cmd \n",
    "git add*"
   ]
  },
  {
   "cell_type": "markdown",
   "id": "blessed-hardwood",
   "metadata": {},
   "source": [
    "3. Commit changes"
   ]
  },
  {
   "cell_type": "code",
   "execution_count": null,
   "id": "renewable-value",
   "metadata": {},
   "outputs": [],
   "source": [
    "%%cmd \n",
    "git commit -m \"Initial Commit\""
   ]
  },
  {
   "cell_type": "markdown",
   "id": "bright-qatar",
   "metadata": {},
   "source": [
    "4. Create new branch (from existing branch) and switch to it"
   ]
  },
  {
   "cell_type": "code",
   "execution_count": null,
   "id": "nervous-sentence",
   "metadata": {},
   "outputs": [],
   "source": [
    "%%cmd \n",
    "git checkout -b GitInfo master"
   ]
  },
  {
   "cell_type": "markdown",
   "id": "spare-mileage",
   "metadata": {},
   "source": [
    "5. Commit to GitInfo"
   ]
  },
  {
   "cell_type": "code",
   "execution_count": null,
   "id": "tracked-honey",
   "metadata": {},
   "outputs": [],
   "source": [
    "%%cmd \n",
    "git commit -m \"Finished git ingo in JN\""
   ]
  },
  {
   "cell_type": "markdown",
   "id": "ordered-protest",
   "metadata": {},
   "source": [
    "6. Switch to master branch"
   ]
  },
  {
   "cell_type": "code",
   "execution_count": null,
   "id": "supreme-liver",
   "metadata": {},
   "outputs": [],
   "source": [
    "%%cmd \n",
    "git checkout master"
   ]
  },
  {
   "cell_type": "markdown",
   "id": "increasing-genesis",
   "metadata": {},
   "source": [
    "7. Pull request (merge GitInfo to master branch)"
   ]
  },
  {
   "cell_type": "markdown",
   "id": "beginning-frequency",
   "metadata": {},
   "source": [
    "Pull request made and authorized from within Github"
   ]
  },
  {
   "cell_type": "code",
   "execution_count": null,
   "id": "informal-request",
   "metadata": {},
   "outputs": [],
   "source": []
  }
 ],
 "metadata": {
  "kernelspec": {
   "display_name": "Python 3",
   "language": "python",
   "name": "python3"
  },
  "language_info": {
   "codemirror_mode": {
    "name": "ipython",
    "version": 3
   },
   "file_extension": ".py",
   "mimetype": "text/x-python",
   "name": "python",
   "nbconvert_exporter": "python",
   "pygments_lexer": "ipython3",
   "version": "3.9.1"
  }
 },
 "nbformat": 4,
 "nbformat_minor": 5
}
