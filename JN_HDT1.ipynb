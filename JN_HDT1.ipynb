{
 "cells": [
  {
   "cell_type": "markdown",
   "id": "amazing-hebrew",
   "metadata": {},
   "source": [
    "# Hoja de Trabajo #1 "
   ]
  },
  {
   "cell_type": "markdown",
   "id": "prepared-pastor",
   "metadata": {},
   "source": [
    "## Ciencia de Datos en Python\n"
   ]
  },
  {
   "cell_type": "markdown",
   "id": "focused-polymer",
   "metadata": {},
   "source": [
    "#### Kevin Munoz\n",
    "#### 21004324"
   ]
  },
  {
   "cell_type": "markdown",
   "id": "composite-butter",
   "metadata": {},
   "source": [
    "1. Markdown"
   ]
  },
  {
   "cell_type": "markdown",
   "id": "executed-journey",
   "metadata": {},
   "source": [
    "Markdown is a __Markup language__ (writing standard), converted into HTML allowing to be easily shared between devices/people. Similar to heading in HTML (h1, h2, etc.) jupyter allows the same funcitonality in a Markdown cell using number symbol (#) in succession (h1 = #, h2 = ##, ...)."
   ]
  },
  {
   "cell_type": "markdown",
   "id": "cordless-virginia",
   "metadata": {},
   "source": [
    "Other functional Markdown are:"
   ]
  },
  {
   "cell_type": "markdown",
   "id": "educated-crime",
   "metadata": {},
   "source": [
    "* list of items (`* text`)"
   ]
  },
  {
   "cell_type": "markdown",
   "id": "shared-afternoon",
   "metadata": {},
   "source": [
    "* _italic letter_ (`a_text_`)"
   ]
  },
  {
   "cell_type": "markdown",
   "id": "scientific-appeal",
   "metadata": {},
   "source": [
    "* 1. numbered list (`1. text`)"
   ]
  },
  {
   "cell_type": "markdown",
   "id": "peaceful-coral",
   "metadata": {},
   "source": [
    "* __boldtext__ (`__text__`)"
   ]
  },
  {
   "cell_type": "markdown",
   "id": "technological-spread",
   "metadata": {},
   "source": [
    "* ---"
   ]
  },
  {
   "cell_type": "markdown",
   "id": "material-literature",
   "metadata": {},
   "source": [
    "* linebreak (`---`)"
   ]
  },
  {
   "cell_type": "markdown",
   "id": "proud-safety",
   "metadata": {},
   "source": [
    "* [Link](https://google.com\n",
    "    \"optional title\")\n"
   ]
  },
  {
   "cell_type": "markdown",
   "id": "immediate-valuation",
   "metadata": {},
   "source": [
    "* ```python\n",
    "print('code as text (triple quote, code, triple quote)');\n",
    "```\n"
   ]
  },
  {
   "cell_type": "markdown",
   "id": "opponent-binding",
   "metadata": {},
   "source": [
    "2. Git"
   ]
  },
  {
   "cell_type": "markdown",
   "id": "hydraulic-jonathan",
   "metadata": {},
   "source": [
    "__Git__ is a version control system created in 2005, that allows to track changes in a set of files (project) by creating a local repository. Version control lets you mantain a history of changes in a project's files in a series of snapshots, allowing for better and easier collaborative work."
   ]
  },
  {
   "cell_type": "markdown",
   "id": "perceived-projector",
   "metadata": {},
   "source": [
    "A __snapshot__, also known as a commit, is a \"photo\" of the actual information stored in a project's files, and they relate with each other in a one-way direction, like this: o -> o -> o. Each o is a commit (snapshot) made by a user, meaning stored changes in files."
   ]
  },
  {
   "cell_type": "markdown",
   "id": "conservative-kennedy",
   "metadata": {},
   "source": [
    "A commit history is the relation between the commit flow. The commits dont have to be linear, they can be separated in branches, creating a starting point in history and going two (or more) different ways that dont collide with each other, and then can be \"merged\" in one single branch. "
   ]
  },
  {
   "cell_type": "markdown",
   "id": "daily-catholic",
   "metadata": {},
   "source": [
    "Changes in files have to be in a __staging area__ to be commited, meaning that just the files in this area are going to make a new snapshot, allowing to create a commit of certain files, giving this commit a comment to explain the changes. "
   ]
  },
  {
   "cell_type": "markdown",
   "id": "acute-found",
   "metadata": {},
   "source": [
    "Git is a command-line interface at its core, so you need to know the basic commands to various tasks, install the git GUI (graphic user interface), or use the integrated git tool in numeroues text editors. Some usefull commands are:"
   ]
  },
  {
   "cell_type": "markdown",
   "id": "flying-diary",
   "metadata": {},
   "source": [
    "* create new repositry\n",
    "> $git init"
   ]
  },
  {
   "cell_type": "markdown",
   "id": "transparent-preference",
   "metadata": {},
   "source": [
    "* add files to staging area\n",
    "> $git add \"filename\""
   ]
  },
  {
   "cell_type": "markdown",
   "id": "south-thousand",
   "metadata": {},
   "source": [
    "* create a branch\n",
    "> $git branch \"name\""
   ]
  },
  {
   "cell_type": "markdown",
   "id": "boxed-screen",
   "metadata": {},
   "source": [
    "* commit files in staging area\n",
    "> $git commit"
   ]
  },
  {
   "cell_type": "markdown",
   "id": "metric-weekly",
   "metadata": {},
   "source": [
    "* switch to branch\n",
    "> git checkout \"name\""
   ]
  },
  {
   "cell_type": "markdown",
   "id": "horizontal-voice",
   "metadata": {},
   "source": [
    "* clone repository\n",
    "> git clone \"URL\""
   ]
  },
  {
   "cell_type": "markdown",
   "id": "viral-corpus",
   "metadata": {},
   "source": [
    "[Github](https://github.com/\n",
    "\"optional title\") \n",
    "is a free hosting for software development site, that allows to upload a git repository and keep track of changes, share your project with someone else, create issues and track the progress, and request features. \n",
    "\n",
    "On github you can create a repository, share the url to someone, so they can see the files or clone the project. Github allows for multiple people to work opn the same project having a platform to keep track of todos and work remotly, creating branches, requesting a pull request (request of merge changes in a branch to another branch, previously revised and authorized by someone), and keep track of issues and how its being managed. Normally you would have a master branch, containing the latest functional version of a project, and various branches working on new features, bugs or todos, to then merge this changes into the master branch after being tested and revised."
   ]
  },
  {
   "cell_type": "markdown",
   "id": "reserved-swiss",
   "metadata": {},
   "source": [
    "As an excercise of git knowledge, a repo was created for this JN, commiting changes of markdown in the master branch, then a new branch was created for information about git, and then a pull request was created to merge the gitinfo branch to the master branch."
   ]
  },
  {
   "cell_type": "markdown",
   "id": "eligible-paintball",
   "metadata": {},
   "source": [
    "##### Graphic flow of commit history by branch"
   ]
  },
  {
   "cell_type": "markdown",
   "id": "muslim-separate",
   "metadata": {},
   "source": [
    "![Git branch flow](git_gui_flow.png)"
   ]
  },
  {
   "cell_type": "markdown",
   "id": "yellow-earthquake",
   "metadata": {},
   "source": [
    "##### Git commit history, pull request to merge"
   ]
  },
  {
   "cell_type": "markdown",
   "id": "valid-guide",
   "metadata": {},
   "source": [
    "![Git branch flow](git_commit_history.png)"
   ]
  },
  {
   "cell_type": "code",
   "execution_count": null,
   "id": "cardiovascular-cabinet",
   "metadata": {},
   "outputs": [],
   "source": []
  }
 ],
 "metadata": {
  "kernelspec": {
   "display_name": "Python 3",
   "language": "python",
   "name": "python3"
  },
  "language_info": {
   "codemirror_mode": {
    "name": "ipython",
    "version": 3
   },
   "file_extension": ".py",
   "mimetype": "text/x-python",
   "name": "python",
   "nbconvert_exporter": "python",
   "pygments_lexer": "ipython3",
   "version": "3.9.1"
  }
 },
 "nbformat": 4,
 "nbformat_minor": 5
}
