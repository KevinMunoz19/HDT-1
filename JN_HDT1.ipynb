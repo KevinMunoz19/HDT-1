{
 "cells": [
  {
   "cell_type": "markdown",
   "id": "amended-debate",
   "metadata": {},
   "source": [
    "# Hoja de Trabajo #1 "
   ]
  },
  {
   "cell_type": "markdown",
   "id": "sublime-activation",
   "metadata": {},
   "source": [
    "## Ciencia de Datos en Python\n"
   ]
  },
  {
   "cell_type": "markdown",
   "id": "necessary-spice",
   "metadata": {},
   "source": [
    "#### Kevin Munoz\n",
    "#### 21004324"
   ]
  },
  {
   "cell_type": "markdown",
   "id": "numerous-toddler",
   "metadata": {},
   "source": [
    "1. Markdown"
   ]
  },
  {
   "cell_type": "markdown",
   "id": "hispanic-border",
   "metadata": {},
   "source": [
    "Markdown is a Markup language (writing standard), converted into HTML allowing to be easily shared between devices/people. Similar to heading in HTML (h1, h2, etc.) jupyter allows the same funcitonality in a Markdown cell using number symbol (#) in succession (h1 = #, h2 = ##, ...)."
   ]
  },
  {
   "cell_type": "markdown",
   "id": "hungry-longer",
   "metadata": {},
   "source": [
    "Other functional Markdown are:"
   ]
  },
  {
   "cell_type": "markdown",
   "id": "about-eating",
   "metadata": {},
   "source": [
    "* list of items (`* text`)"
   ]
  },
  {
   "cell_type": "markdown",
   "id": "white-liver",
   "metadata": {},
   "source": [
    "* _italic letter_ (`a_text_`)"
   ]
  },
  {
   "cell_type": "markdown",
   "id": "greatest-license",
   "metadata": {},
   "source": [
    "* 1. numbered list (`1. text`)"
   ]
  },
  {
   "cell_type": "markdown",
   "id": "adopted-strap",
   "metadata": {},
   "source": [
    "* __boldtext__ (`__text__`)"
   ]
  },
  {
   "cell_type": "markdown",
   "id": "matched-cylinder",
   "metadata": {},
   "source": [
    "* ---"
   ]
  },
  {
   "cell_type": "markdown",
   "id": "tribal-representative",
   "metadata": {},
   "source": [
    "* linebreak (`---`)"
   ]
  },
  {
   "cell_type": "markdown",
   "id": "legendary-arrival",
   "metadata": {},
   "source": [
    "* [Link](https://google.com\n",
    "    \"optional title\")\n"
   ]
  },
  {
   "cell_type": "markdown",
   "id": "descending-concentrate",
   "metadata": {},
   "source": [
    "* ```python\n",
    "print('code as text (triple quote, code, triple quote)');\n",
    "```\n"
   ]
  },
  {
   "cell_type": "markdown",
   "id": "deluxe-asset",
   "metadata": {},
   "source": [
    "2. Git"
   ]
  },
  {
   "cell_type": "markdown",
   "id": "dependent-savannah",
   "metadata": {},
   "source": [
    "Git is a version control system created in 2005, that allows to track changes in a set of files (project) by creating a local repository. Version control lets you mantain a history of changes in a project's files in a series of snapshots, allowing for better and easier collaborative work."
   ]
  },
  {
   "cell_type": "markdown",
   "id": "textile-carbon",
   "metadata": {},
   "source": [
    "A snapshot, also known as a commit, is a \"photo\" of the actual information stored in a project's files, and they relate with each other in a one-way direction, like this: o -> o -> o. Each o is a commit (snapshot) made by a user, meaning stored changes in files."
   ]
  },
  {
   "cell_type": "markdown",
   "id": "north-scotland",
   "metadata": {},
   "source": [
    "A commit history is the relation between the commit flow. The commits dont have to be linear, they can be separated in branches, creating a starting point in history and going two (or more) different ways that dont collide with each other, and then can be \"merged\" in one single branch.\n"
   ]
  },
  {
   "cell_type": "markdown",
   "id": "skilled-branch",
   "metadata": {},
   "source": [
    "Changes in files have to be in a staging are to be commited, meaning that just the files in this area are going to make a new snapshot, allowing to create a commit of certain files, giving this commit a comment to explain the changes. "
   ]
  },
  {
   "cell_type": "code",
   "execution_count": null,
   "id": "dedicated-allowance",
   "metadata": {},
   "outputs": [],
   "source": []
  }
 ],
 "metadata": {
  "kernelspec": {
   "display_name": "Python 3",
   "language": "python",
   "name": "python3"
  },
  "language_info": {
   "codemirror_mode": {
    "name": "ipython",
    "version": 3
   },
   "file_extension": ".py",
   "mimetype": "text/x-python",
   "name": "python",
   "nbconvert_exporter": "python",
   "pygments_lexer": "ipython3",
   "version": "3.9.1"
  }
 },
 "nbformat": 4,
 "nbformat_minor": 5
}
